{
 "cells": [
  {
   "cell_type": "code",
   "execution_count": 1,
   "id": "a21b641a",
   "metadata": {},
   "outputs": [],
   "source": [
    "#Load the Airplane_Crashes_and_Fatalities_Since_1908 dataset\n"
   ]
  },
  {
   "cell_type": "code",
   "execution_count": null,
   "id": "8d6cce4d",
   "metadata": {},
   "outputs": [],
   "source": []
  },
  {
   "cell_type": "code",
   "execution_count": 2,
   "id": "38e5b9f3",
   "metadata": {},
   "outputs": [],
   "source": [
    "#Q1: How many missing values are there in the 'Aboard' variable\n"
   ]
  },
  {
   "cell_type": "code",
   "execution_count": null,
   "id": "9d00fd0c",
   "metadata": {},
   "outputs": [],
   "source": []
  },
  {
   "cell_type": "code",
   "execution_count": 3,
   "id": "41b486a3",
   "metadata": {},
   "outputs": [],
   "source": [
    "#Q2: In which year was the last crash of 'Lufthansa'\n"
   ]
  },
  {
   "cell_type": "code",
   "execution_count": null,
   "id": "0b7eec8b",
   "metadata": {},
   "outputs": [],
   "source": []
  },
  {
   "cell_type": "code",
   "execution_count": 4,
   "id": "c5857bf0",
   "metadata": {},
   "outputs": [],
   "source": [
    "#Q3: The russian Aeroflot is known for many years as being an unsafe airline company. How many fatalities have there been in total in Aeroflot flight.\n"
   ]
  },
  {
   "cell_type": "code",
   "execution_count": null,
   "id": "4cf4d43c",
   "metadata": {},
   "outputs": [],
   "source": []
  },
  {
   "cell_type": "code",
   "execution_count": 5,
   "id": "b03e93ae",
   "metadata": {},
   "outputs": [],
   "source": [
    "# Q4: What is according to the data the maximum number of deaths on the ground with an airplane crash (Ground variable)\n"
   ]
  },
  {
   "cell_type": "code",
   "execution_count": null,
   "id": "0d1f3b8e",
   "metadata": {},
   "outputs": [],
   "source": []
  },
  {
   "cell_type": "code",
   "execution_count": 6,
   "id": "48343967",
   "metadata": {},
   "outputs": [],
   "source": [
    "# Q5: Which disaster produced the most deaths on the ground\n"
   ]
  },
  {
   "cell_type": "code",
   "execution_count": null,
   "id": "c37097ab",
   "metadata": {},
   "outputs": [],
   "source": []
  },
  {
   "cell_type": "code",
   "execution_count": 7,
   "id": "aad802af",
   "metadata": {},
   "outputs": [],
   "source": [
    "# Q6:Select the row with the most victims aboard. What can you tell me about this crash? why where there so many deaths.\n"
   ]
  },
  {
   "cell_type": "code",
   "execution_count": null,
   "id": "b42fe0b6",
   "metadata": {},
   "outputs": [],
   "source": []
  },
  {
   "cell_type": "code",
   "execution_count": null,
   "id": "1744d5e1",
   "metadata": {},
   "outputs": [],
   "source": []
  }
 ],
 "metadata": {
  "kernelspec": {
   "display_name": "Python 3 (ipykernel)",
   "language": "python",
   "name": "python3"
  },
  "language_info": {
   "codemirror_mode": {
    "name": "ipython",
    "version": 3
   },
   "file_extension": ".py",
   "mimetype": "text/x-python",
   "name": "python",
   "nbconvert_exporter": "python",
   "pygments_lexer": "ipython3",
   "version": "3.9.12"
  }
 },
 "nbformat": 4,
 "nbformat_minor": 5
}
