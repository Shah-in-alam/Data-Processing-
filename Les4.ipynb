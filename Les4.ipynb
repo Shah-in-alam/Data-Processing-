{
 "cells": [
  {
   "cell_type": "markdown",
   "metadata": {},
   "source": [
    "# Chapter 3: Univariate Descriptive Analysis"
   ]
  },
  {
   "cell_type": "code",
   "execution_count": 1,
   "metadata": {},
   "outputs": [],
   "source": [
    "import numpy as np\n",
    "import pandas as pd\n",
    "from scipy import stats\n",
    "from matplotlib import pyplot as plt"
   ]
  },
  {
   "cell_type": "markdown",
   "metadata": {},
   "source": [
    "## 3.1 Introduction"
   ]
  },
  {
   "cell_type": "markdown",
   "metadata": {},
   "source": [
    "Now we've covered our preliminaries, it's time to start with the second step of data analysis: ***Explorative Analysis***. Here we try to get a first look at our dataset, get a better understanding of it, so we can perform focused analyses later on.\n",
    "\n",
    "\n",
    "We will also make a conceptual bridge towards probability distributions, samples and populations."
   ]
  },
  {
   "cell_type": "markdown",
   "metadata": {},
   "source": [
    "## 3.2 Intent"
   ]
  },
  {
   "cell_type": "markdown",
   "metadata": {},
   "source": [
    "The goal of descriptive analysis, as the word itself says is to **describe our data**. Like this, we will later on know exactly what we will analyse further. As such, this is the way in which we perform our explorative analysis.\n",
    "\n",
    "Concretely, ***Univariate Descriptive Analysis*** takes a look at each variable individually. No attention is yet paid to the relationships among variables. For know we simply look at 1 variable, and see exactly how that variable behaves.\n",
    "\n",
    "Let's start by importing our data, and printing the first 5 observations:"
   ]
  },
  {
   "cell_type": "code",
   "execution_count": 2,
   "metadata": {},
   "outputs": [
    {
     "data": {
      "text/html": [
       "<div>\n",
       "<style scoped>\n",
       "    .dataframe tbody tr th:only-of-type {\n",
       "        vertical-align: middle;\n",
       "    }\n",
       "\n",
       "    .dataframe tbody tr th {\n",
       "        vertical-align: top;\n",
       "    }\n",
       "\n",
       "    .dataframe thead th {\n",
       "        text-align: right;\n",
       "    }\n",
       "</style>\n",
       "<table border=\"1\" class=\"dataframe\">\n",
       "  <thead>\n",
       "    <tr style=\"text-align: right;\">\n",
       "      <th></th>\n",
       "      <th>#</th>\n",
       "      <th>Name</th>\n",
       "      <th>Type 1</th>\n",
       "      <th>Type 2</th>\n",
       "      <th>Total</th>\n",
       "      <th>HP</th>\n",
       "      <th>Attack</th>\n",
       "      <th>Defense</th>\n",
       "      <th>Sp. Atk</th>\n",
       "      <th>Sp. Def</th>\n",
       "      <th>Speed</th>\n",
       "      <th>Generation</th>\n",
       "      <th>Legendary</th>\n",
       "    </tr>\n",
       "  </thead>\n",
       "  <tbody>\n",
       "    <tr>\n",
       "      <th>0</th>\n",
       "      <td>1</td>\n",
       "      <td>Bulbasaur</td>\n",
       "      <td>Grass</td>\n",
       "      <td>Poison</td>\n",
       "      <td>318</td>\n",
       "      <td>45</td>\n",
       "      <td>49</td>\n",
       "      <td>49</td>\n",
       "      <td>65</td>\n",
       "      <td>65</td>\n",
       "      <td>45</td>\n",
       "      <td>1</td>\n",
       "      <td>False</td>\n",
       "    </tr>\n",
       "    <tr>\n",
       "      <th>1</th>\n",
       "      <td>2</td>\n",
       "      <td>Ivysaur</td>\n",
       "      <td>Grass</td>\n",
       "      <td>Poison</td>\n",
       "      <td>405</td>\n",
       "      <td>60</td>\n",
       "      <td>62</td>\n",
       "      <td>63</td>\n",
       "      <td>80</td>\n",
       "      <td>80</td>\n",
       "      <td>60</td>\n",
       "      <td>1</td>\n",
       "      <td>False</td>\n",
       "    </tr>\n",
       "    <tr>\n",
       "      <th>2</th>\n",
       "      <td>3</td>\n",
       "      <td>Venusaur</td>\n",
       "      <td>Grass</td>\n",
       "      <td>Poison</td>\n",
       "      <td>525</td>\n",
       "      <td>80</td>\n",
       "      <td>82</td>\n",
       "      <td>83</td>\n",
       "      <td>100</td>\n",
       "      <td>100</td>\n",
       "      <td>80</td>\n",
       "      <td>1</td>\n",
       "      <td>False</td>\n",
       "    </tr>\n",
       "    <tr>\n",
       "      <th>3</th>\n",
       "      <td>3</td>\n",
       "      <td>VenusaurMega Venusaur</td>\n",
       "      <td>Grass</td>\n",
       "      <td>Poison</td>\n",
       "      <td>625</td>\n",
       "      <td>80</td>\n",
       "      <td>100</td>\n",
       "      <td>123</td>\n",
       "      <td>122</td>\n",
       "      <td>120</td>\n",
       "      <td>80</td>\n",
       "      <td>1</td>\n",
       "      <td>False</td>\n",
       "    </tr>\n",
       "    <tr>\n",
       "      <th>4</th>\n",
       "      <td>4</td>\n",
       "      <td>Charmander</td>\n",
       "      <td>Fire</td>\n",
       "      <td>NaN</td>\n",
       "      <td>309</td>\n",
       "      <td>39</td>\n",
       "      <td>52</td>\n",
       "      <td>43</td>\n",
       "      <td>60</td>\n",
       "      <td>50</td>\n",
       "      <td>65</td>\n",
       "      <td>1</td>\n",
       "      <td>False</td>\n",
       "    </tr>\n",
       "  </tbody>\n",
       "</table>\n",
       "</div>"
      ],
      "text/plain": [
       "   #                   Name Type 1  Type 2  Total  HP  Attack  Defense  \\\n",
       "0  1              Bulbasaur  Grass  Poison    318  45      49       49   \n",
       "1  2                Ivysaur  Grass  Poison    405  60      62       63   \n",
       "2  3               Venusaur  Grass  Poison    525  80      82       83   \n",
       "3  3  VenusaurMega Venusaur  Grass  Poison    625  80     100      123   \n",
       "4  4             Charmander   Fire     NaN    309  39      52       43   \n",
       "\n",
       "   Sp. Atk  Sp. Def  Speed  Generation  Legendary  \n",
       "0       65       65     45           1      False  \n",
       "1       80       80     60           1      False  \n",
       "2      100      100     80           1      False  \n",
       "3      122      120     80           1      False  \n",
       "4       60       50     65           1      False  "
      ]
     },
     "execution_count": 2,
     "metadata": {},
     "output_type": "execute_result"
    }
   ],
   "source": [
    "pokemons = pd.read_csv('Pokemon.csv')\n",
    "pokemons.head()"
   ]
  },
  {
   "cell_type": "code",
   "execution_count": 3,
   "metadata": {},
   "outputs": [
    {
     "data": {
      "text/plain": [
       "#              int64\n",
       "Name          object\n",
       "Type 1        object\n",
       "Type 2        object\n",
       "Total          int64\n",
       "HP             int64\n",
       "Attack         int64\n",
       "Defense        int64\n",
       "Sp. Atk        int64\n",
       "Sp. Def        int64\n",
       "Speed          int64\n",
       "Generation     int64\n",
       "Legendary       bool\n",
       "dtype: object"
      ]
     },
     "execution_count": 3,
     "metadata": {},
     "output_type": "execute_result"
    }
   ],
   "source": [
    "pokemons.dtypes"
   ]
  },
  {
   "cell_type": "markdown",
   "metadata": {},
   "source": [
    "We can see several variables here. In the documentation of our dataset, we find the following explanation:\n",
    "\n",
    "  * #: ID for each pokemon\n",
    "  * Name: Name of each pokemon\n",
    "  * Type 1: Each pokemon has a type, this determines weakness/resistance to attacks\n",
    "  * Type 2: Some pokemon are dual type and have 2\n",
    "  * Total: sum of all stats that come after this, a general guide to how strong a pokemon is\n",
    "  * HP: hit points, or health, defines how much damage a pokemon can withstand before fainting\n",
    "  * Attack: the base modifier for normal attacks (eg. Scratch, Punch)\n",
    "  * Defense: the base damage resistance against normal attacks\n",
    "  * SP Atk: special attack, the base modifier for special attacks (e.g. fire blast, bubble beam)\n",
    "  * SP Def: the base damage resistance against special attacks\n",
    "  * Speed: determines which pokemon attacks first each round\n",
    "\n",
    "In Univariate Descriptive Analysis, we wil look at all of these variables individually and check whether they contain information, and more or less how they behave. Luckily, as you know from last lesson, pandas provides us with an initial view:"
   ]
  },
  {
   "cell_type": "code",
   "execution_count": null,
   "metadata": {},
   "outputs": [],
   "source": [
    "pokemons.describe()"
   ]
  },
  {
   "cell_type": "markdown",
   "metadata": {},
   "source": [
    "We can clearly see that only numerical variables are summarized. This makes sense, as no operation can take place on string typed variables. Before we go any further, it might be interesting to encode certain variables to for example booleans.\n",
    "\n",
    "The first metric we see is *'count'*. This simply states how many observations we have for each variable. We see that all variables have got 800 observations. This is a good sign. Should there be any variable with less observations than the other variable, we have missing values. There are multiple ways to solve this. As seen in the previous lesson, there are 2 main ways to fix missing values\n",
    "\n",
    "* The observations with missing variables should be omitted (column or row wise depending on the amount that is misssing in each column/row)\n",
    "* The missing values should be filled (in a meaningfull matter)\n",
    "\n",
    "The tricky part in this is that 'a meaningfull manner' is not very well defined and will depend on the data and the problem to be solved. \n",
    "\n",
    "Secondly, we can also observe a minimum and maximum vale for each variable. This already indicates the range of each variable. For example: the attack value of each pokemon lies somewhere between 5 and 190. This once again makes sense, however in other datasets we might here encounter unlogical values. Such as a negative attack. These observations then once again need to be filtered out. \n",
    "\n",
    "Problem! This first step already requires common sense and/or some form of knowledge of the data to avoid working with crappy/wrong data. "
   ]
  },
  {
   "cell_type": "markdown",
   "metadata": {},
   "source": [
    "## 3.4 Graphical Representations"
   ]
  },
  {
   "cell_type": "markdown",
   "metadata": {},
   "source": [
    "Now we've gotten a broad view of our data, it is time to look at each variable independently. We'll take the example of descriptively analyzing the \"Total\" variable, but this process should obviously be repeated for every variable!\n",
    "\n",
    "We'll make our first distribution plot, or \"histogram\" in order to visualize this variable. On the horizontal axis we will find all possible values of said variable, and on the vertical axis we denote how many times this value has occured."
   ]
  },
  {
   "cell_type": "code",
   "execution_count": null,
   "metadata": {},
   "outputs": [],
   "source": [
    "plt.hist(pokemons[\"Total\"], density=False, bins=50, label = 'Total', alpha = 0.5);  \n",
    "plt.legend();\n"
   ]
  },
  {
   "cell_type": "markdown",
   "metadata": {},
   "source": [
    "## 3.4 Numerical Metrics"
   ]
  },
  {
   "cell_type": "markdown",
   "metadata": {},
   "source": [
    "Obviously, simply plotting variables isn't enough. We do need some kind of objective metrics to represent basic information about our data."
   ]
  },
  {
   "cell_type": "markdown",
   "metadata": {},
   "source": [
    "### 3.4.1 Measures of Central Tendency (centrum vn de data)"
   ]
  },
  {
   "cell_type": "markdown",
   "metadata": {},
   "source": [
    "The first numerical metric we'll take a look at are measures of central tendendy. The question we're trying to answer is the following:\n",
    "\n",
    "\"***Where is the center of the data situated?***\""
   ]
  },
  {
   "cell_type": "markdown",
   "metadata": {},
   "source": [
    "#### Mean, average, gemiddelde"
   ]
  },
  {
   "cell_type": "markdown",
   "metadata": {},
   "source": [
    "The first, and most straightforward measure of central tendency is the mean, or otherwise known as the average. It is quite simply calculated as follows:\n",
    "\n",
    "\n",
    "\n",
    "$$ \\overline{x} = \\frac{1}{n}\\sum_{i=1}^{n}x_{i} = \\frac{x_1 + x_2 + \\cdots + x_n}{n} $$\n",
    "\n",
    "\n",
    "The sum of all values is calculated, and is then divided by the amount of observations. Simple as it may be, it is even more straightforward to calculate:"
   ]
  },
  {
   "cell_type": "code",
   "execution_count": 4,
   "metadata": {},
   "outputs": [
    {
     "name": "stderr",
     "output_type": "stream",
     "text": [
      "/Users/Charlie/opt/anaconda3/lib/python3.7/site-packages/numpy/core/fromnumeric.py:3438: FutureWarning: Dropping of nuisance columns in DataFrame reductions (with 'numeric_only=None') is deprecated; in a future version this will raise TypeError.  Select only valid columns before calling the reduction.\n",
      "  return mean(axis=axis, dtype=dtype, out=out, **kwargs)\n"
     ]
    },
    {
     "data": {
      "text/plain": [
       "#             362.81375\n",
       "Total         435.10250\n",
       "HP             69.25875\n",
       "Attack         79.00125\n",
       "Defense        73.84250\n",
       "Sp. Atk        72.82000\n",
       "Sp. Def        71.90250\n",
       "Speed          68.27750\n",
       "Generation      3.32375\n",
       "Legendary       0.08125\n",
       "dtype: float64"
      ]
     },
     "execution_count": 4,
     "metadata": {},
     "output_type": "execute_result"
    }
   ],
   "source": [
    "mean = np.mean(pokemons)\n",
    "mean#.Total"
   ]
  },
  {
   "cell_type": "code",
   "execution_count": null,
   "metadata": {},
   "outputs": [],
   "source": [
    "pokemons['Total'].mean()"
   ]
  },
  {
   "cell_type": "markdown",
   "metadata": {},
   "source": [
    "From this, we can say that the average Total score of all observations is 435. It is always interesting to compare this with the minimum and maximum values. We see that the average value is about in the middle between the minimum and maximum. \n",
    "\n",
    "Is the mean however a good metric of central tendency in our case? Let's plot it against the histogram to check."
   ]
  },
  {
   "cell_type": "code",
   "execution_count": 5,
   "metadata": {},
   "outputs": [
    {
     "data": {
      "image/png": "[encoded data removed]",
      "text/plain": [
       "<Figure size 432x288 with 1 Axes>"
      ]
     },
     "metadata": {
      "needs_background": "light"
     },
     "output_type": "display_data"
    }
   ],
   "source": [
    "plt.hist(pokemons[\"Total\"], bins = 50, alpha = 0.8)\n",
    "plt.axvline(mean.Total, 0, 150, color=\"r\")\n",
    "plt.show()"
   ]
  },
  {
   "cell_type": "markdown",
   "metadata": {},
   "source": [
    "There are different cases in which the mean is less than optimal. One of those is the presence of outliers: the mean is extremely sensitive to outliers. The median, which we will see later, offers a solution to this. Another issue is multiple peakedness. This is the presence of multiple \"centers\". This setting is much harder to describe and needs to be detected graphically.\n",
    "\n",
    "In our histogram, we can clearly see two centers: one around 500, and one around 300. Together with the values between these two, the center of our variable is formed. As such, the mean is in this case a fairly good measure. It may however be interesting to also calculate the mode and the mean. \n",
    "\n",
    "Remark: data needs to be continuous for the mean to be meaniful."
   ]
  },
  {
   "cell_type": "markdown",
   "metadata": {},
   "source": [
    "#### Median"
   ]
  },
  {
   "cell_type": "markdown",
   "metadata": {},
   "source": [
    "The median is the second measure of central tendency we *always* calculate when studying a variable. It is calculated fairly easily: we'll put all our observations next to each other in an ordered fashion. We then simply pick the middle one. As such, it is also extremely easy to calculate:"
   ]
  },
  {
   "cell_type": "code",
   "execution_count": 6,
   "metadata": {},
   "outputs": [
    {
     "name": "stdout",
     "output_type": "stream",
     "text": [
      "450.0\n"
     ]
    }
   ],
   "source": [
    "median = np.median(pokemons[\"Total\"])\n",
    "print(median)"
   ]
  },
  {
   "cell_type": "markdown",
   "metadata": {},
   "source": [
    "As we have mentioned above, the median is much more robust against outliers. When comparing, we can see that our mean and median are quite close together. This indicates that \n",
    "\n",
    "1. There are not much outliers, if any\n",
    "2. The distribution is more or less symmetric\n",
    "\n",
    "Let's see if we can check that in the histogram:"
   ]
  },
  {
   "cell_type": "code",
   "execution_count": 7,
   "metadata": {},
   "outputs": [
    {
     "data": {
      "image/png": "[encoded data removed]",
      "text/plain": [
       "<Figure size 432x288 with 1 Axes>"
      ]
     },
     "metadata": {
      "needs_background": "light"
     },
     "output_type": "display_data"
    }
   ],
   "source": [
    "plt.hist(pokemons[\"Total\"], bins = 50, alpha = 0.8)\n",
    "plt.axvline(pokemons[\"Total\"].mean(), 0, 150, label = \"mean\", color = \"red\")\n",
    "plt.axvline(pokemons[\"Total\"].median(), 0, 150, label = \"median\", color = \"orange\")\n",
    "plt.legend()\n",
    "plt.show()"
   ]
  },
  {
   "cell_type": "markdown",
   "metadata": {},
   "source": [
    "We indeed see that the mean and median are really close together. We have obtained an additional indication that the center of our data is indeed somewhere around 435-450. If these two measures fall more or less together, it's a first evidence that we have indeed found the center of our dataset.\n",
    "\n",
    "Remark: data needs to be at least ordinal for the median to make sense."
   ]
  },
  {
   "cell_type": "markdown",
   "metadata": {},
   "source": [
    "### 3.4.2 Measures of Dispersion, (spreiding)"
   ]
  },
  {
   "cell_type": "markdown",
   "metadata": {},
   "source": [
    "Next to getting an idea of where the center of our data is, it might be interesting to get a formal idea about how \"spread out\" our data is. The question we ask ourselves is the following:\n",
    "\n",
    "\"***If we were to take a random observation, how far away would it lie from the center of the data?***\""
   ]
  },
  {
   "cell_type": "markdown",
   "metadata": {},
   "source": [
    "#### Variance"
   ]
  },
  {
   "cell_type": "markdown",
   "metadata": {},
   "source": [
    "The first measures of dispersion is are the variance and standard deviation. These measures are build on top of the mean, and as such can only be calculated for the variable types for which we can calculate the mean!\n",
    "\n",
    "When calculating the variance, we first calculate for each observation the distance it lies from the mean. We then simply take the average of all these distances. As such, it represents the average distance from the mean.\n",
    "\n",
    "The formula is as follows:"
   ]
  },
  {
   "cell_type": "markdown",
   "metadata": {},
   "source": [
    "$$ S^2 = \n",
    "            \\frac{\\sum_{i=1}^n(x_i - \\overline{x})^2}{n-1} $$\n",
    "            \n",
    "            \n",
    "$$ StdDev = \n",
    "            \\sqrt{S^2} = S $$  "
   ]
  },
  {
   "cell_type": "markdown",
   "metadata": {},
   "source": [
    "It is clear that the standard deviation and the variance contain the exact same information. As such, we only need to calculate one of both!"
   ]
  },
  {
   "cell_type": "code",
   "execution_count": 8,
   "metadata": {},
   "outputs": [
    {
     "name": "stdout",
     "output_type": "stream",
     "text": [
      "119.88803941073523\n"
     ]
    }
   ],
   "source": [
    "variance = np.var(pokemons[\"Total\"])\n",
    "stdev = np.sqrt(variance)\n",
    "print(stdev)"
   ]
  },
  {
   "cell_type": "code",
   "execution_count": 9,
   "metadata": {},
   "outputs": [
    {
     "data": {
      "text/plain": [
       "119.88803941073523"
      ]
     },
     "execution_count": 9,
     "metadata": {},
     "output_type": "execute_result"
    }
   ],
   "source": [
    "np.std(pokemons[\"Total\"])"
   ]
  },
  {
   "cell_type": "markdown",
   "metadata": {},
   "source": [
    "We conclude that on average, an observation will lie about 120 points away from the mean. There will definitely also be points closer to the mean and points farther away from the mean. This is simpy a general metric which indicates the average distance from the mean. Next to that, it also tells us nothing about on which side of the mean an observation will lie. It simply tells us how dispersed our data is."
   ]
  },
  {
   "cell_type": "markdown",
   "metadata": {},
   "source": [
    "#### Percentiles"
   ]
  },
  {
   "cell_type": "markdown",
   "metadata": {},
   "source": [
    "The second measure of disperson are the percentiles. Remember when we calculated the median, that we first ordered all our observations and then picked the middle one. This implies that there exist exactly 50% of our observations left from the median, and the other half of our dataset will be higher than the median. Percentiles are nothing more that a generalization of this concept. Rather than cutting our dataset in 2 parts by selecting the middle value, we can cut our dataset in 2 by selecting a certain percentage of observations the number must cut.\n",
    "\n",
    "For example: the 1st percentile is the number for which 1% of our observations is lower, and 99$ percent of our dataset is higher. As such, the median can be seen as the 50th percentile.\n",
    "\n",
    "Let's calculate some percentiles:"
   ]
  },
  {
   "cell_type": "code",
   "execution_count": null,
   "metadata": {},
   "outputs": [],
   "source": [
    "percentile_01 = np.percentile(pokemons[\"Total\"], 1)\n",
    "percentile_99 = np.percentile(pokemons[\"Total\"], 99)\n",
    "median = np.percentile(pokemons[\"Total\"], 50)\n",
    "print(percentile_01)"
   ]
  },
  {
   "cell_type": "markdown",
   "metadata": {},
   "source": [
    "From this, we can for example say that 99% of all observations are higher than 200. 1% of the observations is however even lower than 200, so it's not yet the minimum value.\n",
    "\n",
    "There exist a few special percentiles:\n",
    "\n",
    "* $Q1$ = the 25th percentile\n",
    "* $Q2$ = the 50th percentile (the median)\n",
    "* $Q3$ = the 75th percentile\n",
    "\n",
    "There is also the **interquartile range (IQR)**, this is a measure of dispersion based on the percentile/quartiles: $IQR$ = $Q_3$ − $Q_1$\n",
    "\n",
    "These quartiles are used to construct the box in the boxplot:"
   ]
  },
  {
   "cell_type": "code",
   "execution_count": 10,
   "metadata": {},
   "outputs": [
    {
     "data": {
      "image/png": "[encoded data removed]",
      "text/plain": [
       "<Figure size 432x288 with 1 Axes>"
      ]
     },
     "metadata": {
      "needs_background": "light"
     },
     "output_type": "display_data"
    }
   ],
   "source": [
    "plt.boxplot(pokemons[\"Total\"]);"
   ]
  },
  {
   "cell_type": "markdown",
   "metadata": {},
   "source": [
    "However, there is much more to this boxplot. For this let's examine the following visualisation (https://stats.stackexchange.com/questions/149161/confused-by-location-of-fences-in-box-whisker-plots/149178#149178)\n",
    "\n",
    "Note: The default k = 1.5\n",
    "\n",
    "![boxplot info](boxplot.png)"
   ]
  },
  {
   "cell_type": "code",
   "execution_count": 11,
   "metadata": {},
   "outputs": [
    {
     "data": {
      "image/png": "[encoded data removed]",
      "text/plain": [
       "<Figure size 432x288 with 1 Axes>"
      ]
     },
     "metadata": {
      "needs_background": "light"
     },
     "output_type": "display_data"
    }
   ],
   "source": [
    "plt.boxplot(pokemons[\"HP\"], vert = False);"
   ]
  },
  {
   "cell_type": "code",
   "execution_count": 12,
   "metadata": {},
   "outputs": [
    {
     "data": {
      "text/plain": [
       "''"
      ]
     },
     "execution_count": 12,
     "metadata": {},
     "output_type": "execute_result"
    },
    {
     "data": {
      "image/png": "[encoded data removed]",
      "text/plain": [
       "<Figure size 432x288 with 1 Axes>"
      ]
     },
     "metadata": {
      "needs_background": "light"
     },
     "output_type": "display_data"
    }
   ],
   "source": [
    "plt.boxplot(pokemons[\"HP\"], labels = [\"hp\"])\n",
    "plt.boxplot(pokemons[\"Total\"], labels = [\"Total\"])\n",
    ";"
   ]
  },
  {
   "cell_type": "code",
   "execution_count": 13,
   "metadata": {},
   "outputs": [
    {
     "data": {
      "image/png": "[encoded data removed]",
      "text/plain": [
       "<Figure size 432x288 with 1 Axes>"
      ]
     },
     "metadata": {
      "needs_background": "light"
     },
     "output_type": "display_data"
    }
   ],
   "source": [
    "boxplot_data_list = [pokemons[\"HP\"],\n",
    "                    pokemons[\"Total\"]]\n",
    "\n",
    "boxplot_data_labels = ['HP', \"Total\"]\n",
    "\n",
    "plt.boxplot(boxplot_data_list, labels = boxplot_data_labels, patch_artist=True);"
   ]
  },
  {
   "cell_type": "markdown",
   "metadata": {},
   "source": [
    "### 3.4.3 Other"
   ]
  },
  {
   "cell_type": "markdown",
   "metadata": {},
   "source": [
    "\n",
    "\n",
    "Other measures obviously also exist. For example, the Kurtosis measures the skewness of a distribution. We however won't go too deep into this anymore."
   ]
  },
  {
   "cell_type": "markdown",
   "metadata": {},
   "source": [
    "## 3.5 Exercises \n",
    "\n"
   ]
  },
  {
   "cell_type": "markdown",
   "metadata": {},
   "source": [
    "### 3.5.1 Exercise: boxplots vs histograms\n",
    "\n",
    "Compare the variables 'Total', 'HP' and 'Generation'. Which of these variabes has the highest/lowest mean, median, and SD. Solve this question by making two differen visualisations:\n",
    "\n",
    "1. histograms\n",
    "2. boxplots\n",
    "\n",
    "Do you prefer any of the two and why?"
   ]
  },
  {
   "cell_type": "code",
   "execution_count": 19,
   "metadata": {},
   "outputs": [
    {
     "data": {
      "image/png": "[encoded data removed]",
      "text/plain": [
       "<Figure size 432x288 with 1 Axes>"
      ]
     },
     "metadata": {
      "needs_background": "light"
     },
     "output_type": "display_data"
    }
   ],
   "source": [
    "plt.hist(pokemons['Total'], label = \"Total\", bins = 100, range = [0,800]) \n",
    "plt.hist(pokemons['HP'], label = \"HP\", bins = 100, range = [0,800]) \n",
    "plt.hist(pokemons['Generation'], label = \"Generation\", bins = 100, range = [0,800]) \n",
    "plt.legend();"
   ]
  },
  {
   "cell_type": "code",
   "execution_count": 20,
   "metadata": {},
   "outputs": [
    {
     "data": {
      "image/png": "[encoded data removed]",
      "text/plain": [
       "<Figure size 432x288 with 1 Axes>"
      ]
     },
     "metadata": {
      "needs_background": "light"
     },
     "output_type": "display_data"
    }
   ],
   "source": [
    "boxplot_data_list = [pokemons[\"Total\"],\n",
    "                    pokemons[\"HP\"],\n",
    "                    pokemons[\"Generation\"]]\n",
    "\n",
    "boxplot_data_labels = [\"Total\", 'HP', \"Generation\"]\n",
    "\n",
    "plt.boxplot(boxplot_data_list, labels = boxplot_data_labels, patch_artist=True);"
   ]
  },
  {
   "cell_type": "markdown",
   "metadata": {},
   "source": [
    "### 3.5.2 Exercise: boxplots vs histograms pt 2\n",
    "\n",
    "Do the same as the excercise above but compare the variables 'HP', 'Attack', 'Defense' and 'Speed'. \n",
    "\n",
    "Which type of visualisation do you prefer in this case?"
   ]
  },
  {
   "cell_type": "code",
   "execution_count": 23,
   "metadata": {},
   "outputs": [
    {
     "data": {
      "image/png": "[encoded data removed]",
      "text/plain": [
       "<Figure size 432x288 with 1 Axes>"
      ]
     },
     "metadata": {
      "needs_background": "light"
     },
     "output_type": "display_data"
    }
   ],
   "source": [
    "plt.hist(pokemons['Attack'], label = \"Attack\", bins = 100, range = [0,300], alpha = 0.7) \n",
    "plt.hist(pokemons['HP'], label = \"HP\", bins = 100, range = [0,300], alpha = 0.7) \n",
    "plt.hist(pokemons['Defense'], label = \"Defense\", bins = 100, range = [0,300], alpha = 0.7) \n",
    "plt.hist(pokemons['Speed'], label = \"Speed\", bins = 100, range = [0,300], alpha = 0.7) \n",
    "plt.legend();"
   ]
  },
  {
   "cell_type": "code",
   "execution_count": 24,
   "metadata": {},
   "outputs": [
    {
     "data": {
      "image/png": "[encoded data removed]",
      "text/plain": [
       "<Figure size 432x288 with 1 Axes>"
      ]
     },
     "metadata": {
      "needs_background": "light"
     },
     "output_type": "display_data"
    }
   ],
   "source": [
    "boxplot_data_list = [pokemons[\"Attack\"],\n",
    "                    pokemons[\"HP\"],\n",
    "                    pokemons[\"Defense\"],\n",
    "                    pokemons[\"Speed\"]]\n",
    "\n",
    "boxplot_data_labels = ['Attack', \"HP\", \"Defense\", \"Speed\"]\n",
    "\n",
    "plt.boxplot(boxplot_data_list, labels = boxplot_data_labels, patch_artist=True);"
   ]
  },
  {
   "cell_type": "markdown",
   "metadata": {},
   "source": [
    "# Air crash data"
   ]
  },
  {
   "cell_type": "code",
   "execution_count": 47,
   "metadata": {},
   "outputs": [
    {
     "data": {
      "text/html": [
       "<div>\n",
       "<style scoped>\n",
       "    .dataframe tbody tr th:only-of-type {\n",
       "        vertical-align: middle;\n",
       "    }\n",
       "\n",
       "    .dataframe tbody tr th {\n",
       "        vertical-align: top;\n",
       "    }\n",
       "\n",
       "    .dataframe thead th {\n",
       "        text-align: right;\n",
       "    }\n",
       "</style>\n",
       "<table border=\"1\" class=\"dataframe\">\n",
       "  <thead>\n",
       "    <tr style=\"text-align: right;\">\n",
       "      <th></th>\n",
       "      <th>Date</th>\n",
       "      <th>Time</th>\n",
       "      <th>Location</th>\n",
       "      <th>Operator</th>\n",
       "      <th>Flight #</th>\n",
       "      <th>Route</th>\n",
       "      <th>Type</th>\n",
       "      <th>Registration</th>\n",
       "      <th>cn/In</th>\n",
       "      <th>Aboard</th>\n",
       "      <th>Fatalities</th>\n",
       "      <th>Ground</th>\n",
       "      <th>Summary</th>\n",
       "      <th>Proporties</th>\n",
       "    </tr>\n",
       "  </thead>\n",
       "  <tbody>\n",
       "    <tr>\n",
       "      <th>0</th>\n",
       "      <td>09/17/1908</td>\n",
       "      <td>17:18</td>\n",
       "      <td>Fort Myer, Virginia</td>\n",
       "      <td>Military - U.S. Army</td>\n",
       "      <td>NaN</td>\n",
       "      <td>Demonstration</td>\n",
       "      <td>Wright Flyer III</td>\n",
       "      <td>NaN</td>\n",
       "      <td>1</td>\n",
       "      <td>2.0</td>\n",
       "      <td>1.0</td>\n",
       "      <td>0.0</td>\n",
       "      <td>During a demonstration flight, a U.S. Army fly...</td>\n",
       "      <td>0.500</td>\n",
       "    </tr>\n",
       "    <tr>\n",
       "      <th>1</th>\n",
       "      <td>07/12/1912</td>\n",
       "      <td>06:30</td>\n",
       "      <td>AtlantiCity, New Jersey</td>\n",
       "      <td>Military - U.S. Navy</td>\n",
       "      <td>NaN</td>\n",
       "      <td>Test flight</td>\n",
       "      <td>Dirigible</td>\n",
       "      <td>NaN</td>\n",
       "      <td>NaN</td>\n",
       "      <td>5.0</td>\n",
       "      <td>5.0</td>\n",
       "      <td>0.0</td>\n",
       "      <td>First U.S. dirigible Akron exploded just offsh...</td>\n",
       "      <td>1.000</td>\n",
       "    </tr>\n",
       "    <tr>\n",
       "      <th>2</th>\n",
       "      <td>08/06/1913</td>\n",
       "      <td>NaN</td>\n",
       "      <td>Victoria, British Columbia, Canada</td>\n",
       "      <td>Private</td>\n",
       "      <td>-</td>\n",
       "      <td>NaN</td>\n",
       "      <td>Curtiss seaplane</td>\n",
       "      <td>NaN</td>\n",
       "      <td>NaN</td>\n",
       "      <td>1.0</td>\n",
       "      <td>1.0</td>\n",
       "      <td>0.0</td>\n",
       "      <td>The first fatal airplane accident in Canada oc...</td>\n",
       "      <td>1.000</td>\n",
       "    </tr>\n",
       "    <tr>\n",
       "      <th>3</th>\n",
       "      <td>09/09/1913</td>\n",
       "      <td>18:30</td>\n",
       "      <td>Over the North Sea</td>\n",
       "      <td>Military - German Navy</td>\n",
       "      <td>NaN</td>\n",
       "      <td>NaN</td>\n",
       "      <td>Zeppelin L-1 (airship)</td>\n",
       "      <td>NaN</td>\n",
       "      <td>NaN</td>\n",
       "      <td>20.0</td>\n",
       "      <td>14.0</td>\n",
       "      <td>0.0</td>\n",
       "      <td>The airship flew into a thunderstorm and encou...</td>\n",
       "      <td>0.700</td>\n",
       "    </tr>\n",
       "    <tr>\n",
       "      <th>4</th>\n",
       "      <td>10/17/1913</td>\n",
       "      <td>10:30</td>\n",
       "      <td>Near Johannisthal, Germany</td>\n",
       "      <td>Military - German Navy</td>\n",
       "      <td>NaN</td>\n",
       "      <td>NaN</td>\n",
       "      <td>Zeppelin L-2 (airship)</td>\n",
       "      <td>NaN</td>\n",
       "      <td>NaN</td>\n",
       "      <td>30.0</td>\n",
       "      <td>30.0</td>\n",
       "      <td>0.0</td>\n",
       "      <td>Hydrogen gas which was being vented was sucked...</td>\n",
       "      <td>1.000</td>\n",
       "    </tr>\n",
       "    <tr>\n",
       "      <th>...</th>\n",
       "      <td>...</td>\n",
       "      <td>...</td>\n",
       "      <td>...</td>\n",
       "      <td>...</td>\n",
       "      <td>...</td>\n",
       "      <td>...</td>\n",
       "      <td>...</td>\n",
       "      <td>...</td>\n",
       "      <td>...</td>\n",
       "      <td>...</td>\n",
       "      <td>...</td>\n",
       "      <td>...</td>\n",
       "      <td>...</td>\n",
       "      <td>...</td>\n",
       "    </tr>\n",
       "    <tr>\n",
       "      <th>5263</th>\n",
       "      <td>05/20/2009</td>\n",
       "      <td>06:30</td>\n",
       "      <td>Near Madiun, Indonesia</td>\n",
       "      <td>Military - Indonesian Air Force</td>\n",
       "      <td>NaN</td>\n",
       "      <td>Jakarta - Maduin</td>\n",
       "      <td>Lockheed C-130 Hercules</td>\n",
       "      <td>A-1325</td>\n",
       "      <td>1982</td>\n",
       "      <td>112.0</td>\n",
       "      <td>98.0</td>\n",
       "      <td>2.0</td>\n",
       "      <td>While on approach, the military transport cras...</td>\n",
       "      <td>0.875</td>\n",
       "    </tr>\n",
       "    <tr>\n",
       "      <th>5264</th>\n",
       "      <td>05/26/2009</td>\n",
       "      <td>NaN</td>\n",
       "      <td>Near Isiro, DemocratiRepubliCongo</td>\n",
       "      <td>Service Air</td>\n",
       "      <td>NaN</td>\n",
       "      <td>Goma - Isiro</td>\n",
       "      <td>Antonov An-26</td>\n",
       "      <td>9Q-CSA</td>\n",
       "      <td>5005</td>\n",
       "      <td>4.0</td>\n",
       "      <td>4.0</td>\n",
       "      <td>NaN</td>\n",
       "      <td>The cargo plane crashed while on approach to I...</td>\n",
       "      <td>1.000</td>\n",
       "    </tr>\n",
       "    <tr>\n",
       "      <th>5265</th>\n",
       "      <td>06/01/2009</td>\n",
       "      <td>00:15</td>\n",
       "      <td>AtlantiOcean, 570 miles northeast of Natal, Br...</td>\n",
       "      <td>Air France</td>\n",
       "      <td>447</td>\n",
       "      <td>Rio de Janeiro - Paris</td>\n",
       "      <td>Airbus A330-203</td>\n",
       "      <td>F-GZCP</td>\n",
       "      <td>660</td>\n",
       "      <td>228.0</td>\n",
       "      <td>228.0</td>\n",
       "      <td>0.0</td>\n",
       "      <td>The Airbus went missing over the AtlantiOcean ...</td>\n",
       "      <td>1.000</td>\n",
       "    </tr>\n",
       "    <tr>\n",
       "      <th>5266</th>\n",
       "      <td>06/07/2009</td>\n",
       "      <td>08:30</td>\n",
       "      <td>Near Port Hope Simpson, Newfoundland, Canada</td>\n",
       "      <td>Strait Air</td>\n",
       "      <td>NaN</td>\n",
       "      <td>Lourdes de BlanSablon - Port Hope Simpson</td>\n",
       "      <td>Britten-Norman BN-2A-27 Islander</td>\n",
       "      <td>C-FJJR</td>\n",
       "      <td>424</td>\n",
       "      <td>1.0</td>\n",
       "      <td>1.0</td>\n",
       "      <td>0.0</td>\n",
       "      <td>The air ambulance crashed into hills while att...</td>\n",
       "      <td>1.000</td>\n",
       "    </tr>\n",
       "    <tr>\n",
       "      <th>5267</th>\n",
       "      <td>06/08/2009</td>\n",
       "      <td>NaN</td>\n",
       "      <td>State of Arunachal Pradesh, India</td>\n",
       "      <td>Military - Indian Air Force</td>\n",
       "      <td>NaN</td>\n",
       "      <td>Mechuka for Jorhat</td>\n",
       "      <td>Antonov An-32</td>\n",
       "      <td>NaN</td>\n",
       "      <td>NaN</td>\n",
       "      <td>13.0</td>\n",
       "      <td>13.0</td>\n",
       "      <td>0.0</td>\n",
       "      <td>The military transport went missing while en r...</td>\n",
       "      <td>1.000</td>\n",
       "    </tr>\n",
       "  </tbody>\n",
       "</table>\n",
       "<p>5268 rows × 14 columns</p>\n",
       "</div>"
      ],
      "text/plain": [
       "            Date   Time                                           Location  \\\n",
       "0     09/17/1908  17:18                                Fort Myer, Virginia   \n",
       "1     07/12/1912  06:30                            AtlantiCity, New Jersey   \n",
       "2     08/06/1913    NaN                 Victoria, British Columbia, Canada   \n",
       "3     09/09/1913  18:30                                 Over the North Sea   \n",
       "4     10/17/1913  10:30                         Near Johannisthal, Germany   \n",
       "...          ...    ...                                                ...   \n",
       "5263  05/20/2009  06:30                             Near Madiun, Indonesia   \n",
       "5264  05/26/2009    NaN                  Near Isiro, DemocratiRepubliCongo   \n",
       "5265  06/01/2009  00:15  AtlantiOcean, 570 miles northeast of Natal, Br...   \n",
       "5266  06/07/2009  08:30       Near Port Hope Simpson, Newfoundland, Canada   \n",
       "5267  06/08/2009    NaN                  State of Arunachal Pradesh, India   \n",
       "\n",
       "                             Operator Flight #  \\\n",
       "0                Military - U.S. Army      NaN   \n",
       "1                Military - U.S. Navy      NaN   \n",
       "2                             Private        -   \n",
       "3              Military - German Navy      NaN   \n",
       "4              Military - German Navy      NaN   \n",
       "...                               ...      ...   \n",
       "5263  Military - Indonesian Air Force      NaN   \n",
       "5264                      Service Air      NaN   \n",
       "5265                       Air France      447   \n",
       "5266                       Strait Air      NaN   \n",
       "5267      Military - Indian Air Force      NaN   \n",
       "\n",
       "                                          Route  \\\n",
       "0                                 Demonstration   \n",
       "1                                   Test flight   \n",
       "2                                           NaN   \n",
       "3                                           NaN   \n",
       "4                                           NaN   \n",
       "...                                         ...   \n",
       "5263                           Jakarta - Maduin   \n",
       "5264                               Goma - Isiro   \n",
       "5265                     Rio de Janeiro - Paris   \n",
       "5266  Lourdes de BlanSablon - Port Hope Simpson   \n",
       "5267                         Mechuka for Jorhat   \n",
       "\n",
       "                                  Type Registration cn/In  Aboard  Fatalities  \\\n",
       "0                     Wright Flyer III          NaN     1     2.0         1.0   \n",
       "1                            Dirigible          NaN   NaN     5.0         5.0   \n",
       "2                     Curtiss seaplane          NaN   NaN     1.0         1.0   \n",
       "3               Zeppelin L-1 (airship)          NaN   NaN    20.0        14.0   \n",
       "4               Zeppelin L-2 (airship)          NaN   NaN    30.0        30.0   \n",
       "...                                ...          ...   ...     ...         ...   \n",
       "5263           Lockheed C-130 Hercules       A-1325  1982   112.0        98.0   \n",
       "5264                     Antonov An-26       9Q-CSA  5005     4.0         4.0   \n",
       "5265                   Airbus A330-203       F-GZCP   660   228.0       228.0   \n",
       "5266  Britten-Norman BN-2A-27 Islander      C-FJJR    424     1.0         1.0   \n",
       "5267                     Antonov An-32          NaN   NaN    13.0        13.0   \n",
       "\n",
       "      Ground                                            Summary  Proporties  \n",
       "0        0.0  During a demonstration flight, a U.S. Army fly...       0.500  \n",
       "1        0.0  First U.S. dirigible Akron exploded just offsh...       1.000  \n",
       "2        0.0  The first fatal airplane accident in Canada oc...       1.000  \n",
       "3        0.0  The airship flew into a thunderstorm and encou...       0.700  \n",
       "4        0.0  Hydrogen gas which was being vented was sucked...       1.000  \n",
       "...      ...                                                ...         ...  \n",
       "5263     2.0  While on approach, the military transport cras...       0.875  \n",
       "5264     NaN  The cargo plane crashed while on approach to I...       1.000  \n",
       "5265     0.0  The Airbus went missing over the AtlantiOcean ...       1.000  \n",
       "5266     0.0  The air ambulance crashed into hills while att...       1.000  \n",
       "5267     0.0  The military transport went missing while en r...       1.000  \n",
       "\n",
       "[5268 rows x 14 columns]"
      ]
     },
     "execution_count": 47,
     "metadata": {},
     "output_type": "execute_result"
    }
   ],
   "source": [
    "crash = pd.read_csv(\"Airplane_Crashes_and_Fatalities_Since_1908.csv\")\n"
   ]
  },
  {
   "cell_type": "markdown",
   "metadata": {},
   "source": [
    "## Excercise: Compare Aeroflot with Military - U.S. Air Force \n",
    "\n",
    "\n",
    "\n",
    "\n",
    "### Exercise 1: \n",
    "Make a histogram of both datasets and compare.\n",
    "\n",
    "### Exercise 2: \n",
    "Make a boxplot to comppare the data. Does this give you any more information.\n",
    "\n",
    "-Which one has one average more deaths?\n",
    "-Do the medians tell the same story?\n",
    "-What about the standard deviation/IQR\n",
    "\n",
    "\n",
    "### Exercise 3: \n",
    "Calculate the proportion of passengers killed in the crash. Make a boxplot out of this data for both US military and Aeroflot. What can you conclude\n",
    "\n",
    "\n",
    "### Exercise 4 (optional):\n",
    "Make a scatterplot of fatalities over time (you can use pd.to_datetime on the date variable to plot it correctly). Do the number of fatalities improve over time or not, compare once again US military vs Aeroflot.\n"
   ]
  },
  {
   "cell_type": "code",
   "execution_count": null,
   "metadata": {},
   "outputs": [],
   "source": []
  }
 ],
 "metadata": {
  "kernelspec": {
   "display_name": "Python 3 (ipykernel)",
   "language": "python",
   "name": "python3"
  },
  "language_info": {
   "codemirror_mode": {
    "name": "ipython",
    "version": 3
   },
   "file_extension": ".py",
   "mimetype": "text/x-python",
   "name": "python",
   "nbconvert_exporter": "python",
   "pygments_lexer": "ipython3",
   "version": "3.11.4"
  }
 },
 "nbformat": 4,
 "nbformat_minor": 4
}
